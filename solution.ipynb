{
 "cells": [
  {
   "cell_type": "code",
   "execution_count": 111,
   "metadata": {},
   "outputs": [],
   "source": [
    "import pandas as pd\n",
    "import numpy as np\n",
    "from sklearn.model_selection import train_test_split\n",
    "\n",
    "df = pd.read_csv('news.csv')\n",
    "df.dropna(inplace=True)\n",
    "df.reset_index(inplace=True)\n",
    "train, test = train_test_split(df, test_size=0.2)\n",
    "train.reset_index(inplace=True)\n",
    "test.reset_index(inplace=True)\n",
    "#df['content'].value_counts()"
   ]
  },
  {
   "cell_type": "code",
   "execution_count": 112,
   "metadata": {},
   "outputs": [],
   "source": [
    "import nltk\n",
    "from nltk.corpus import stopwords\n",
    "sw_nltk = stopwords.words('english')"
   ]
  },
  {
   "cell_type": "code",
   "execution_count": 113,
   "metadata": {},
   "outputs": [],
   "source": [
    "import string\n",
    "from num2words import num2words\n",
    "from nltk.stem import WordNetLemmatizer\n",
    "def stopword_fun(x):\n",
    "    words = [word for word in x['content'].split() if word.lower() not in sw_nltk]\n",
    "    text = \" \".join(words)\n",
    "    text = \"\".join([i for i in text if i not in string.punctuation])\n",
    "    words = [WordNetLemmatizer().lemmatize(word) for word in text.split(' ')]\n",
    "    text = ''\n",
    "    for word in words:\n",
    "        \n",
    "        if word.isnumeric():\n",
    "            text  = text + \" \" +num2words(float(word))\n",
    "        elif len(word) >2:\n",
    "            text =  text + \" \" + word\n",
    "    words = [word for word in text.split() if word.lower() not in sw_nltk]    \n",
    "    text = \" \".join(words)\n",
    "    text = \"\".join([i for i in text if i not in string.punctuation])\n",
    "    text = text.lower()\n",
    "    return text\n",
    "def stopword_fun_title(x):\n",
    "    words = [word for word in x['title'].split() if word.lower() not in sw_nltk]\n",
    "    text = \" \".join(words)\n",
    "    text = \"\".join([i for i in text if i not in string.punctuation])\n",
    "    words = [WordNetLemmatizer().lemmatize(word) for word in text.split(' ')]\n",
    "    text = ''\n",
    "    for word in words:\n",
    "        \n",
    "        if word.isnumeric():\n",
    "            text  = text + \" \" +num2words(float(word))\n",
    "        elif len(word) >2:\n",
    "            text =  text + \" \" + word\n",
    "    words = [word for word in text.split() if word.lower() not in sw_nltk]    \n",
    "    text = \" \".join(words)\n",
    "    text = \"\".join([i for i in text if i not in string.punctuation])\n",
    "    text = text.lower()\n",
    "    return text\n",
    "def preprocess_query(x):\n",
    "    words = [word for word in x.split() if word.lower() not in sw_nltk]\n",
    "    text = \" \".join(words)\n",
    "    text = \"\".join([i for i in text if i not in string.punctuation])\n",
    "    words = [WordNetLemmatizer().lemmatize(word) for word in text.split(' ')]\n",
    "    text = ''\n",
    "    for word in words:\n",
    "        \n",
    "        if word.isnumeric():\n",
    "            text  = text + \" \" +num2words(float(word))\n",
    "        elif len(word) >2:\n",
    "            text =  text + \" \" + word\n",
    "    words = [word for word in text.split() if word.lower() not in sw_nltk]    \n",
    "    text = \" \".join(words)\n",
    "    text = \"\".join([i for i in text if i not in string.punctuation])\n",
    "    text = text.lower()\n",
    "    return text\n",
    "content = train.apply(stopword_fun,axis=1)\n",
    "\n",
    "title = train.apply(stopword_fun_title,axis=1)\n",
    "\n"
   ]
  },
  {
   "cell_type": "code",
   "execution_count": 114,
   "metadata": {},
   "outputs": [
    {
     "name": "stdout",
     "output_type": "stream",
     "text": [
      "bts leader aka kim namjoons album indigo going december two first solo album past released two mixtapes work mono got lot critical appreciation working indigo quite time described archive twenty bts army feeling emotional affair aka kim namjoon pouring pain joy fear beautiful lyric well look like keeping promise promotion indigo fans remember said would like meet armys small group maybe coffee chat look like finally happening big hit music announced hold concert two hundred armys seems batch fifty people selected via raffle system people selected must purchased album via weverse also minor allowed concert recorded per broadcasting law minor filmed unless accompanied parent korea minor allowed clause ignited imagination bts army daddy joon take look tweet day back namjoon went viral tiktok hot performance sexy nukim song balming tiger featured small rap verse namjoon aka right official schedule paid visit museum enjoying new york fullest\n"
     ]
    },
    {
     "data": {
      "text/plain": [
       "'RM aka Kim Namjoon was the first member to join BTS. The group released their debut single album 2 Cool 4 Skool on June 12, 2013. Apart from RM, BTS also features Jin, Suga, J-Hope, Jimin, V, and Jungkook. In an interview with Hypebeast, RM said, \"This is the most difficult question to answer truthfully. Recently, I watched Everything Everywhere All At Once. That film visualized many of the ideas that I’ve had, such as the idea about multiple versions of myself existing based on small choices I made. I often think about what it would have been like if I continued my studies or became something other than a musician.\" \"To be honest, one decision that I had often thought about was my choice to become a part of a boy band. In the late 2000s, musicians like Zico, Changmo, and Giriboy were the people that I started out with. In my journey with BTS, I drifted further and further away from that world and was tormented by the thought that the people that I liked – and the people who enjoyed the same music as I – did not have any love for me. I often wondered whether I made the right decision by joining a boy band. At the time, BTS, was treated like a complete outsider in the Korean hip-hop community. That stressed me out. I was constantly thinking about how I would be able to overcome that perception and how to define music or hip-hop,” he added. RM released his first solo mixtape in 2015. Three years later, he released his second mixtape, Mono. RM has collaborated with artists such as Wale, Younha, Warren G, Gaeko, Krizz Kaliko, MFBTY, Fall Out Boy, Primary, Lil Nas X, Erykah Badu, and Anderson .Paak. Earlier this month, RM released his first full-length solo album Indigo.'"
      ]
     },
     "execution_count": 114,
     "metadata": {},
     "output_type": "execute_result"
    }
   ],
   "source": [
    "print(content[1])\n",
    "df['content'][1]"
   ]
  },
  {
   "cell_type": "code",
   "execution_count": 115,
   "metadata": {},
   "outputs": [
    {
     "name": "stdout",
     "output_type": "stream",
     "text": [
      "644 644\n"
     ]
    }
   ],
   "source": [
    "from nltk.tokenize import word_tokenize\n",
    "processed_text = []\n",
    "processed_title = []\n",
    "print(len(content),len(title))\n",
    "\n",
    "for j,i in enumerate(content):\n",
    "   \n",
    "    processed_text.append(word_tokenize(i))\n",
    "    processed_title.append(word_tokenize(title[j]))\n"
   ]
  },
  {
   "cell_type": "code",
   "execution_count": 116,
   "metadata": {},
   "outputs": [],
   "source": [
    "DF = {}\n",
    "from collections import Counter\n",
    "for i in range(len(content)):\n",
    "    tokens = processed_text[i]\n",
    "    for w in tokens:\n",
    "        if w in DF.keys():\n",
    "            DF[w].add(i)\n",
    "        else:\n",
    "            DF[w] = {i}\n",
    "   \n",
    "    tokens = processed_title[i]\n",
    "    for w in tokens:\n",
    "        if w in DF.keys():\n",
    "            DF[w].add(i)\n",
    "        else:\n",
    "            DF[w] = {i}\n",
    "\n",
    "for i in DF:\n",
    "    DF[i] = len(DF[i])\n",
    "total_vocab_size = len(DF)\n",
    "\n",
    "total_vocab = [x for x in DF]\n",
    "def doc_freq(word):\n",
    "    c = 0\n",
    "    if word in DF.keys():\n",
    "        c = DF[word]\n",
    "    else:\n",
    "        pass\n",
    "    return c\n"
   ]
  },
  {
   "cell_type": "code",
   "execution_count": 117,
   "metadata": {},
   "outputs": [
    {
     "data": {
      "text/plain": [
       "0"
      ]
     },
     "execution_count": 117,
     "metadata": {},
     "output_type": "execute_result"
    }
   ],
   "source": [
    "\n",
    "doc = 0\n",
    "\n",
    "tf_idf = {}\n",
    "N = len(content)\n",
    "\n",
    "for i in range(N):\n",
    "    \n",
    "    tokens = processed_text[i]\n",
    "    \n",
    "    counter = Counter(tokens + processed_title[i])\n",
    "    words_count = len(tokens + processed_title[i])\n",
    "    \n",
    "    for token in np.unique(tokens):\n",
    "        \n",
    "        tf = counter[token]/words_count\n",
    "        df_val = doc_freq(token)\n",
    "        idf = np.log((N+1)/(df_val+1))\n",
    "        \n",
    "        tf_idf[doc, token] = tf*idf\n",
    "\n",
    "    doc += 1\n",
    "cnt = 0\n",
    "for i in tf_idf.values():\n",
    "    if i == 0:\n",
    "        cnt = cnt +1\n",
    "cnt"
   ]
  },
  {
   "cell_type": "code",
   "execution_count": 118,
   "metadata": {},
   "outputs": [
    {
     "data": {
      "text/plain": [
       "8434"
      ]
     },
     "execution_count": 118,
     "metadata": {},
     "output_type": "execute_result"
    }
   ],
   "source": [
    "doc = 0\n",
    "\n",
    "tf_idf_title = {}\n",
    "\n",
    "for i in range(N):\n",
    "    \n",
    "    tokens = processed_title[i]\n",
    "    counter = Counter(tokens + processed_text[i])\n",
    "    words_count = len(tokens + processed_text[i])\n",
    "\n",
    "    for token in np.unique(tokens):\n",
    "        \n",
    "        tf = counter[token]/words_count\n",
    "        df_val = doc_freq(token)\n",
    "        idf = np.log((N+1)/(df_val+1)) #numerator is added 1 to avoid negative values\n",
    "        \n",
    "        tf_idf_title[doc, token] = tf*idf\n",
    "\n",
    "    doc += 1\n",
    "len(tf_idf_title)"
   ]
  },
  {
   "cell_type": "code",
   "execution_count": 119,
   "metadata": {},
   "outputs": [],
   "source": [
    "alpha = 0.7\n",
    "for i in tf_idf:\n",
    "    tf_idf[i] *= alpha\n",
    "for i in tf_idf_title:\n",
    "    tf_idf[i] = tf_idf_title[i]\n"
   ]
  },
  {
   "cell_type": "code",
   "execution_count": 120,
   "metadata": {},
   "outputs": [
    {
     "name": "stdout",
     "output_type": "stream",
     "text": [
      "Matching Score\n",
      "\n",
      "Query: Speaking about the friendship tattoo, V said as translated by Twitter user @BTStranslation_, \"I still... haven't gotten the friendship ‘7' tattoo. I haven't been able to decide where to get it so I'm trying to decide quickly. Will you guys help me decide? I'll go get it done with Jungkook once I choose where I'll get it done.\" When a fan suggested that he should get the tattoo under the left toe, V said, \"I also thought about it.\" Recently, RM revealed that he got the tattoo inked on his leg while eagle-eyed fans discovered that Jimin got it on his finger. V spoke about Jungkook's new song My You, released ahead of BTS' ninth anniversary, and said, \"Jungkook's song? I heard Jungkook's song about a month ago... it's good, isn't it? Shall we listen to his song once? He made this song well!!\" He also sang My You and later Jimin's OST debut song, With You, from Our Blues. He also said, \"Our Blues…to be honest, from the 13th, 14th episode I’ve been crying at the end of every episode. It’s a show that I don’t think will come out again?\" After asking fans, \"you want me to turn on Run BTS?\" he started singing the song as well. V also took up the 'Bangtan Don’t Laugh for 22 minutes' challenge video as tweeted by @modooborahae. He said, “Everyone come in and if you’re ready, say 'Yes' on Weverse. Oh, are you ready? Go to 'try not to laugh BTS version for 20 minutes'. Which pic/clip did you say was fun? The Hangul Day special? Episode 86? But this is legendary? I definitely won’t smile. Okay, let’s go. What kind of expression can we have? We just can’t show our teeth. The vibe is already funny. Isn’t my hair more of a 'try not to laugh challenge'?” The BTS member also spoke about actor Gang Dong-Won and watching the screening of Broker. \"Oh, I saw the VIP screening well. I really liked how he came to my Las Vegas concert and I was thankful so I went to his. He’s my role model. I do have a lot of role models. But he’s from my hometown. He’s so handsome.\" BTS' V started the live an hour before Proof Live and as fans asked him to watch it with them, he said, \"I don't think that's possible. I got off work... but I also need to go home right?\" However, he later said, \"Alright, let's all watch together. I'm going to watch this but since there are people who only have a phone... please go to (the Proof live) quickly.\" Earlier he had said, \"Now all the music shows pre-recordings have finished.. since we have the Proof live at 9 PM, I thought I'll come on live until then.. since a lot of ARMYs came today but a lot couldn't come so you might be sad, I thought I'd come live for you guys.\" Soon after the Proof Live started, V signed off from his live session.\n",
      "\n",
      "['speaking', 'friendship', 'tattoo', 'said', 'translated', 'twitter', 'user', 'btstranslation', 'still', 'gotten', 'friendship', 'tattoo', 'able', 'decide', 'get', 'trying', 'decide', 'quickly', 'guy', 'help', 'decide', 'ill', 'get', 'done', 'jungkook', 'choose', 'ill', 'get', 'done', 'fan', 'suggested', 'get', 'tattoo', 'left', 'toe', 'said', 'also', 'thought', 'recently', 'revealed', 'got', 'tattoo', 'inked', 'leg', 'eagleeyed', 'fan', 'discovered', 'jimin', 'got', 'finger', 'spoke', 'jungkooks', 'new', 'song', 'released', 'ahead', 'bts', 'ninth', 'anniversary', 'said', 'jungkooks', 'song', 'heard', 'jungkooks', 'song', 'month', 'ago', 'good', 'shall', 'listen', 'song', 'made', 'song', 'well', 'also', 'sang', 'later', 'jimins', 'ost', 'debut', 'song', 'blues', 'also', 'said', 'blues…to', 'honest', '13th', '14th', 'episode', 'i', '’', 've', 'cry', 'end', 'every', 'episode', 'it', '’', 's', 'show', 'don', '’', 't', 'think', 'come', 'asking', 'fan', 'want', 'turn', 'run', 'bts', 'started', 'singing', 'song', 'well', 'also', 'took', 'bangtan', 'don', '’', 't', 'laugh', 'twentytwo', 'minute', 'challenge', 'video', 'tweeted', 'modooborahae', 'said', '“', 'everyone', 'come', 'you', '’', 're', 'ready', 'say', 'yes', 'weverse', 'ready', 'try', 'laugh', 'bts', 'version', 'twenty', 'minute', 'picclip', 'say', 'fun', 'hangul', 'day', 'special', 'episode', 'eightysix', 'legendary', 'definitely', 'won', '’', 't', 'smile', 'okay', 'let', '’', 's', 'kind', 'expression', 'can', '’', 't', 'show', 'teeth', 'vibe', 'already', 'funny', 'isn', '’', 't', 'hair', 'try', 'laugh', 'challenge', '”', 'bts', 'member', 'also', 'spoke', 'actor', 'gang', 'dongwon', 'watching', 'screening', 'broker', 'saw', 'vip', 'screening', 'well', 'really', 'liked', 'came', 'las', 'vegas', 'concert', 'thankful', 'went', 'he', '’', 's', 'role', 'model', 'lot', 'role', 'model', 'he', '’', 's', 'hometown', 'he', '’', 's', 'handsome', 'bts', 'started', 'live', 'hour', 'proof', 'live', 'fan', 'asked', 'watch', 'said', 'think', 'thats', 'possible', 'got', 'work', 'also', 'need', 'home', 'right', 'however', 'later', 'said', 'alright', 'let', 'watch', 'together', 'going', 'watch', 'since', 'people', 'phone', 'please', 'proof', 'live', 'quickly', 'earlier', 'said', 'music', 'show', 'prerecordings', 'finished', 'since', 'proof', 'live', 'nine', 'thought', 'ill', 'come', 'live', 'since', 'lot', 'armys', 'came', 'today', 'lot', 'come', 'might', 'sad', 'thought', 'come', 'live', 'guy', 'soon', 'proof', 'live', 'started', 'signed', 'live', 'session']\n",
      "\n",
      "[525, 124, 94, 28, 160, 544, 439, 100, 605, 140]\n"
     ]
    }
   ],
   "source": [
    "def matching_score(k, query):\n",
    "    preprocessed_query = preprocess_query(query)\n",
    "    tokens = word_tokenize(str(preprocessed_query))\n",
    "\n",
    "    print(\"Matching Score\")\n",
    "    print(\"\\nQuery:\", query)\n",
    "    print(\"\")\n",
    "    print(tokens)\n",
    "    \n",
    "    query_weights = {}\n",
    "\n",
    "    for key in tf_idf:\n",
    "        \n",
    "        if key[1] in tokens:\n",
    "            try:\n",
    "                query_weights[key[0]] += tf_idf[key]\n",
    "            except:\n",
    "                query_weights[key[0]] = tf_idf[key]\n",
    "    \n",
    "    query_weights = sorted(query_weights.items(), key=lambda x: x[1], reverse=True)\n",
    "\n",
    "    print(\"\")\n",
    "    \n",
    "    l = []\n",
    "    \n",
    "    for i in query_weights[:k]:\n",
    "        l.append(i[0])\n",
    "    \n",
    "    print(l)\n",
    "matching_score(10,test['content'][0])\n"
   ]
  },
  {
   "cell_type": "code",
   "execution_count": 121,
   "metadata": {},
   "outputs": [],
   "source": [
    "import math\n",
    "def cosine_sim(a, b):\n",
    "    cos_sim = np.dot(a, b)/(np.linalg.norm(a)*np.linalg.norm(b))\n",
    "    return cos_sim\n",
    "D = np.zeros((N, total_vocab_size))\n",
    "for i in tf_idf:\n",
    "    try:\n",
    "        ind = total_vocab.index(i[1])\n",
    "        D[i[0]][ind] = tf_idf[i]\n",
    "    except:\n",
    "        pass\n",
    "def gen_vector(tokens):\n",
    "\n",
    "    Q = np.zeros((len(total_vocab)))\n",
    "    \n",
    "    counter = Counter(tokens)\n",
    "    words_count = len(tokens)\n",
    "\n",
    "    query_weights = {}\n",
    "    \n",
    "    for token in np.unique(tokens):\n",
    "        \n",
    "        tf = counter[token]/words_count\n",
    "        df = doc_freq(token)\n",
    "        idf = math.log((N+1)/(df+1))\n",
    "\n",
    "        try:\n",
    "            ind = total_vocab.index(token)\n",
    "            Q[ind] = tf*idf\n",
    "        except:\n",
    "            pass\n",
    "    return Q\n"
   ]
  },
  {
   "cell_type": "code",
   "execution_count": 122,
   "metadata": {},
   "outputs": [
    {
     "name": "stdout",
     "output_type": "stream",
     "text": [
      "Cosine Similarity\n",
      "\n",
      "Query: Speaking about the friendship tattoo, V said as translated by Twitter user @BTStranslation_, \"I still... haven't gotten the friendship ‘7' tattoo. I haven't been able to decide where to get it so I'm trying to decide quickly. Will you guys help me decide? I'll go get it done with Jungkook once I choose where I'll get it done.\" When a fan suggested that he should get the tattoo under the left toe, V said, \"I also thought about it.\" Recently, RM revealed that he got the tattoo inked on his leg while eagle-eyed fans discovered that Jimin got it on his finger. V spoke about Jungkook's new song My You, released ahead of BTS' ninth anniversary, and said, \"Jungkook's song? I heard Jungkook's song about a month ago... it's good, isn't it? Shall we listen to his song once? He made this song well!!\" He also sang My You and later Jimin's OST debut song, With You, from Our Blues. He also said, \"Our Blues…to be honest, from the 13th, 14th episode I’ve been crying at the end of every episode. It’s a show that I don’t think will come out again?\" After asking fans, \"you want me to turn on Run BTS?\" he started singing the song as well. V also took up the 'Bangtan Don’t Laugh for 22 minutes' challenge video as tweeted by @modooborahae. He said, “Everyone come in and if you’re ready, say 'Yes' on Weverse. Oh, are you ready? Go to 'try not to laugh BTS version for 20 minutes'. Which pic/clip did you say was fun? The Hangul Day special? Episode 86? But this is legendary? I definitely won’t smile. Okay, let’s go. What kind of expression can we have? We just can’t show our teeth. The vibe is already funny. Isn’t my hair more of a 'try not to laugh challenge'?” The BTS member also spoke about actor Gang Dong-Won and watching the screening of Broker. \"Oh, I saw the VIP screening well. I really liked how he came to my Las Vegas concert and I was thankful so I went to his. He’s my role model. I do have a lot of role models. But he’s from my hometown. He’s so handsome.\" BTS' V started the live an hour before Proof Live and as fans asked him to watch it with them, he said, \"I don't think that's possible. I got off work... but I also need to go home right?\" However, he later said, \"Alright, let's all watch together. I'm going to watch this but since there are people who only have a phone... please go to (the Proof live) quickly.\" Earlier he had said, \"Now all the music shows pre-recordings have finished.. since we have the Proof live at 9 PM, I thought I'll come on live until then.. since a lot of ARMYs came today but a lot couldn't come so you might be sad, I thought I'd come live for you guys.\" Soon after the Proof Live started, V signed off from his live session.\n",
      "\n",
      "['speaking', 'friendship', 'tattoo', 'said', 'translated', 'twitter', 'user', 'btstranslation', 'still', 'gotten', 'friendship', 'tattoo', 'able', 'decide', 'get', 'trying', 'decide', 'quickly', 'guy', 'help', 'decide', 'ill', 'get', 'done', 'jungkook', 'choose', 'ill', 'get', 'done', 'fan', 'suggested', 'get', 'tattoo', 'left', 'toe', 'said', 'also', 'thought', 'recently', 'revealed', 'got', 'tattoo', 'inked', 'leg', 'eagleeyed', 'fan', 'discovered', 'jimin', 'got', 'finger', 'spoke', 'jungkooks', 'new', 'song', 'released', 'ahead', 'bts', 'ninth', 'anniversary', 'said', 'jungkooks', 'song', 'heard', 'jungkooks', 'song', 'month', 'ago', 'good', 'shall', 'listen', 'song', 'made', 'song', 'well', 'also', 'sang', 'later', 'jimins', 'ost', 'debut', 'song', 'blues', 'also', 'said', 'blues…to', 'honest', '13th', '14th', 'episode', 'i', '’', 've', 'cry', 'end', 'every', 'episode', 'it', '’', 's', 'show', 'don', '’', 't', 'think', 'come', 'asking', 'fan', 'want', 'turn', 'run', 'bts', 'started', 'singing', 'song', 'well', 'also', 'took', 'bangtan', 'don', '’', 't', 'laugh', 'twentytwo', 'minute', 'challenge', 'video', 'tweeted', 'modooborahae', 'said', '“', 'everyone', 'come', 'you', '’', 're', 'ready', 'say', 'yes', 'weverse', 'ready', 'try', 'laugh', 'bts', 'version', 'twenty', 'minute', 'picclip', 'say', 'fun', 'hangul', 'day', 'special', 'episode', 'eightysix', 'legendary', 'definitely', 'won', '’', 't', 'smile', 'okay', 'let', '’', 's', 'kind', 'expression', 'can', '’', 't', 'show', 'teeth', 'vibe', 'already', 'funny', 'isn', '’', 't', 'hair', 'try', 'laugh', 'challenge', '”', 'bts', 'member', 'also', 'spoke', 'actor', 'gang', 'dongwon', 'watching', 'screening', 'broker', 'saw', 'vip', 'screening', 'well', 'really', 'liked', 'came', 'las', 'vegas', 'concert', 'thankful', 'went', 'he', '’', 's', 'role', 'model', 'lot', 'role', 'model', 'he', '’', 's', 'hometown', 'he', '’', 's', 'handsome', 'bts', 'started', 'live', 'hour', 'proof', 'live', 'fan', 'asked', 'watch', 'said', 'think', 'thats', 'possible', 'got', 'work', 'also', 'need', 'home', 'right', 'however', 'later', 'said', 'alright', 'let', 'watch', 'together', 'going', 'watch', 'since', 'people', 'phone', 'please', 'proof', 'live', 'quickly', 'earlier', 'said', 'music', 'show', 'prerecordings', 'finished', 'since', 'proof', 'live', 'nine', 'thought', 'ill', 'come', 'live', 'since', 'lot', 'armys', 'came', 'today', 'lot', 'come', 'might', 'sad', 'thought', 'come', 'live', 'guy', 'soon', 'proof', 'live', 'started', 'signed', 'live', 'session']\n",
      "\n",
      "[525 140 124 592  94 605  28  52 160 613]\n"
     ]
    }
   ],
   "source": [
    "def cosine_similarity(k, query):\n",
    "    print(\"Cosine Similarity\")\n",
    "    preprocessed_query = preprocess_query(query)\n",
    "    tokens = word_tokenize(str(preprocessed_query))\n",
    "    \n",
    "    print(\"\\nQuery:\", query)\n",
    "    print(\"\")\n",
    "    print(tokens)\n",
    "    \n",
    "    d_cosines = []\n",
    "    \n",
    "    query_vector = gen_vector(tokens)\n",
    "    \n",
    "    for d in D:\n",
    "        d_cosines.append(cosine_sim(query_vector, d))\n",
    "       \n",
    "    out = np.array(d_cosines).argsort()[-k:][::-1]\n",
    "    \n",
    "    print(\"\")\n",
    "    \n",
    "    print(out)\n",
    "cosine_similarity(10,test['content'][0])"
   ]
  },
  {
   "cell_type": "code",
   "execution_count": 123,
   "metadata": {},
   "outputs": [
    {
     "data": {
      "text/plain": [
       "'took time figure font position tattoo process getting inked took two minute interaction fan said english “it took two hour stamp body check font position took two damn minute actual tattoo body two line one line ouch 2nd line ouch done” previously shared glimpse friendship tattoo fan seems bts leader’s tribute sevenmember band seven also name bts’ two thousand twenty album member discussed getting inked several occasion jhope jimin jin also similar tattoo talking tattoo earlier said weverse “we’ve talking friendship tattoo forever we’ll someday please look forward it” also mentioned member discussion getting friendship tattoo let’s tattoo seven dot seven something simply tattoo number seven we’re actually want ankle know it’s simple” said currently bts member jin suga jhope jimin jungkook break focus individual career goal announcing hiatus said enjoyed bts group member feel exhausted know kind group last album proof released last month'"
      ]
     },
     "execution_count": 123,
     "metadata": {},
     "output_type": "execute_result"
    }
   ],
   "source": [
    "content[525]"
   ]
  }
 ],
 "metadata": {
  "kernelspec": {
   "display_name": "Python 3.6.9 64-bit",
   "language": "python",
   "name": "python3"
  },
  "language_info": {
   "codemirror_mode": {
    "name": "ipython",
    "version": 3
   },
   "file_extension": ".py",
   "mimetype": "text/x-python",
   "name": "python",
   "nbconvert_exporter": "python",
   "pygments_lexer": "ipython3",
   "version": "3.6.9"
  },
  "orig_nbformat": 4,
  "vscode": {
   "interpreter": {
    "hash": "31f2aee4e71d21fbe5cf8b01ff0e069b9275f58929596ceb00d14d90e3e16cd6"
   }
  }
 },
 "nbformat": 4,
 "nbformat_minor": 2
}
